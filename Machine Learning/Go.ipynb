{
  "nbformat": 4,
  "nbformat_minor": 0,
  "metadata": {
    "colab": {
      "name": "Go.ipynb",
      "provenance": [],
      "collapsed_sections": []
    },
    "kernelspec": {
      "name": "python3",
      "display_name": "Python 3"
    },
    "language_info": {
      "name": "python"
    },
    "accelerator": "TPU"
  },
  "cells": [
    {
      "cell_type": "markdown",
      "source": [
        "# Clasificador Bayesiano Ingenuo"
      ],
      "metadata": {
        "id": "4j1vqDY6Rap2"
      }
    },
    {
      "cell_type": "code",
      "execution_count": null,
      "metadata": {
        "colab": {
          "base_uri": "https://localhost:8080/",
          "height": 206
        },
        "id": "IZ7JTyRJPOAj",
        "outputId": "e9ae98d4-e304-4a90-dd0d-e2b52e4765d4"
      },
      "outputs": [
        {
          "output_type": "execute_result",
          "data": {
            "text/plain": [
              "   id_blancas  id_negras  ganador\n",
              "0           3          4        1\n",
              "1           7          8        1\n",
              "2          40         10        1\n",
              "3          16         17        1\n",
              "4           8         18        1"
            ],
            "text/html": [
              "\n",
              "  <div id=\"df-4c21486c-87d9-4e5e-98a3-80a6d3e92461\">\n",
              "    <div class=\"colab-df-container\">\n",
              "      <div>\n",
              "<style scoped>\n",
              "    .dataframe tbody tr th:only-of-type {\n",
              "        vertical-align: middle;\n",
              "    }\n",
              "\n",
              "    .dataframe tbody tr th {\n",
              "        vertical-align: top;\n",
              "    }\n",
              "\n",
              "    .dataframe thead th {\n",
              "        text-align: right;\n",
              "    }\n",
              "</style>\n",
              "<table border=\"1\" class=\"dataframe\">\n",
              "  <thead>\n",
              "    <tr style=\"text-align: right;\">\n",
              "      <th></th>\n",
              "      <th>id_blancas</th>\n",
              "      <th>id_negras</th>\n",
              "      <th>ganador</th>\n",
              "    </tr>\n",
              "  </thead>\n",
              "  <tbody>\n",
              "    <tr>\n",
              "      <th>0</th>\n",
              "      <td>3</td>\n",
              "      <td>4</td>\n",
              "      <td>1</td>\n",
              "    </tr>\n",
              "    <tr>\n",
              "      <th>1</th>\n",
              "      <td>7</td>\n",
              "      <td>8</td>\n",
              "      <td>1</td>\n",
              "    </tr>\n",
              "    <tr>\n",
              "      <th>2</th>\n",
              "      <td>40</td>\n",
              "      <td>10</td>\n",
              "      <td>1</td>\n",
              "    </tr>\n",
              "    <tr>\n",
              "      <th>3</th>\n",
              "      <td>16</td>\n",
              "      <td>17</td>\n",
              "      <td>1</td>\n",
              "    </tr>\n",
              "    <tr>\n",
              "      <th>4</th>\n",
              "      <td>8</td>\n",
              "      <td>18</td>\n",
              "      <td>1</td>\n",
              "    </tr>\n",
              "  </tbody>\n",
              "</table>\n",
              "</div>\n",
              "      <button class=\"colab-df-convert\" onclick=\"convertToInteractive('df-4c21486c-87d9-4e5e-98a3-80a6d3e92461')\"\n",
              "              title=\"Convert this dataframe to an interactive table.\"\n",
              "              style=\"display:none;\">\n",
              "        \n",
              "  <svg xmlns=\"http://www.w3.org/2000/svg\" height=\"24px\"viewBox=\"0 0 24 24\"\n",
              "       width=\"24px\">\n",
              "    <path d=\"M0 0h24v24H0V0z\" fill=\"none\"/>\n",
              "    <path d=\"M18.56 5.44l.94 2.06.94-2.06 2.06-.94-2.06-.94-.94-2.06-.94 2.06-2.06.94zm-11 1L8.5 8.5l.94-2.06 2.06-.94-2.06-.94L8.5 2.5l-.94 2.06-2.06.94zm10 10l.94 2.06.94-2.06 2.06-.94-2.06-.94-.94-2.06-.94 2.06-2.06.94z\"/><path d=\"M17.41 7.96l-1.37-1.37c-.4-.4-.92-.59-1.43-.59-.52 0-1.04.2-1.43.59L10.3 9.45l-7.72 7.72c-.78.78-.78 2.05 0 2.83L4 21.41c.39.39.9.59 1.41.59.51 0 1.02-.2 1.41-.59l7.78-7.78 2.81-2.81c.8-.78.8-2.07 0-2.86zM5.41 20L4 18.59l7.72-7.72 1.47 1.35L5.41 20z\"/>\n",
              "  </svg>\n",
              "      </button>\n",
              "      \n",
              "  <style>\n",
              "    .colab-df-container {\n",
              "      display:flex;\n",
              "      flex-wrap:wrap;\n",
              "      gap: 12px;\n",
              "    }\n",
              "\n",
              "    .colab-df-convert {\n",
              "      background-color: #E8F0FE;\n",
              "      border: none;\n",
              "      border-radius: 50%;\n",
              "      cursor: pointer;\n",
              "      display: none;\n",
              "      fill: #1967D2;\n",
              "      height: 32px;\n",
              "      padding: 0 0 0 0;\n",
              "      width: 32px;\n",
              "    }\n",
              "\n",
              "    .colab-df-convert:hover {\n",
              "      background-color: #E2EBFA;\n",
              "      box-shadow: 0px 1px 2px rgba(60, 64, 67, 0.3), 0px 1px 3px 1px rgba(60, 64, 67, 0.15);\n",
              "      fill: #174EA6;\n",
              "    }\n",
              "\n",
              "    [theme=dark] .colab-df-convert {\n",
              "      background-color: #3B4455;\n",
              "      fill: #D2E3FC;\n",
              "    }\n",
              "\n",
              "    [theme=dark] .colab-df-convert:hover {\n",
              "      background-color: #434B5C;\n",
              "      box-shadow: 0px 1px 3px 1px rgba(0, 0, 0, 0.15);\n",
              "      filter: drop-shadow(0px 1px 2px rgba(0, 0, 0, 0.3));\n",
              "      fill: #FFFFFF;\n",
              "    }\n",
              "  </style>\n",
              "\n",
              "      <script>\n",
              "        const buttonEl =\n",
              "          document.querySelector('#df-4c21486c-87d9-4e5e-98a3-80a6d3e92461 button.colab-df-convert');\n",
              "        buttonEl.style.display =\n",
              "          google.colab.kernel.accessAllowed ? 'block' : 'none';\n",
              "\n",
              "        async function convertToInteractive(key) {\n",
              "          const element = document.querySelector('#df-4c21486c-87d9-4e5e-98a3-80a6d3e92461');\n",
              "          const dataTable =\n",
              "            await google.colab.kernel.invokeFunction('convertToInteractive',\n",
              "                                                     [key], {});\n",
              "          if (!dataTable) return;\n",
              "\n",
              "          const docLinkHtml = 'Like what you see? Visit the ' +\n",
              "            '<a target=\"_blank\" href=https://colab.research.google.com/notebooks/data_table.ipynb>data table notebook</a>'\n",
              "            + ' to learn more about interactive tables.';\n",
              "          element.innerHTML = '';\n",
              "          dataTable['output_type'] = 'display_data';\n",
              "          await google.colab.output.renderOutput(dataTable, element);\n",
              "          const docLink = document.createElement('div');\n",
              "          docLink.innerHTML = docLinkHtml;\n",
              "          element.appendChild(docLink);\n",
              "        }\n",
              "      </script>\n",
              "    </div>\n",
              "  </div>\n",
              "  "
            ]
          },
          "metadata": {},
          "execution_count": 1
        }
      ],
      "source": [
        "import numpy as np\n",
        "import pandas as pd\n",
        "import matplotlib.pyplot as plt\n",
        "import seaborn as sns\n",
        "from sklearn.preprocessing import OneHotEncoder\n",
        "from sklearn.naive_bayes import MultinomialNB\n",
        "\n",
        "\n",
        "train = pd.read_csv('https://raw.githubusercontent.com/gibranfp/CursoAprendizajeAutomatizado/master/data/partidas_entrenamiento.csv')\n",
        "test = pd.read_csv('https://raw.githubusercontent.com/gibranfp/CursoAprendizajeAutomatizado/master/data/partidas_prueba.csv')\n",
        "\n",
        "train['id_blancas'].max(),train['id_blancas'].min()\n",
        "train.head() "
      ]
    },
    {
      "cell_type": "code",
      "source": [
        "X = train.loc[:,['id_blancas','id_negras']]\n",
        "y = train['ganador']"
      ],
      "metadata": {
        "id": "3GKQ5qbWjU5a"
      },
      "execution_count": null,
      "outputs": []
    },
    {
      "cell_type": "markdown",
      "source": [
        "Utilizare el clasificador categorico de la libreta que nos compartio el dr gibran "
      ],
      "metadata": {
        "id": "8Bf0MYuEKHLm"
      }
    },
    {
      "cell_type": "code",
      "source": [
        "class CategoricalNB:\n",
        "\n",
        "  def prob_clase_(self):\n",
        "    return self.qc\n",
        "  #prob conjunta\n",
        "  def prob_cond_clase_(self, X):\n",
        "    \"\"\"\n",
        "    Calcula probabilidad condicional dada la clase\n",
        "    \"\"\"\n",
        "    v = np.zeros((X.shape[0], self.clases.size))\n",
        "    a = np.arange(X.shape[1])\n",
        "    for k in range(X.shape[0]):\n",
        "      for i in range(self.clases.size):\n",
        "        v[k, i] = self.qa[i, a, X[k, a]].sum()\n",
        "    return v\n",
        "\n",
        "  def fit(self, X, y, alfa = 2):\n",
        "    \"\"\"\n",
        "    Entrena clasificador bayesiano ingenuo\n",
        "    \"\"\"\n",
        "    # Calcula parámetros de distribución a priori \n",
        "    n = X.shape[0]\n",
        "    self.clases = np.unique(y)\n",
        "    self.n_clases = self.clases.size\n",
        "    self.qc = np.zeros(self.clases.size)\n",
        "    for i,c in enumerate(self.clases):\n",
        "      # Misma alfa para todas las categorías\n",
        "      self.qc[i] = (np.sum(y == c) + alfa - 1) / (n + alfa * self.n_clases - self.n_clases)\n",
        "\n",
        "    # Escala logarítmica para parámetros de a priori\n",
        "    self.qc[self.qc == 0] = np.nextafter(0, 1)\n",
        "    self.qc[self.qc == 1] = np.nextafter(1, 0)\n",
        "    self.qc = np.log(self.qc)\n",
        "\n",
        "    # Calcula parámetros de verosimilitud \n",
        "    self.n_atrib = X.shape[1]\n",
        "\n",
        "    # Presupone mismas categorías en los dos atributos (mismos posibles jugadores)\n",
        "    self.n_cat = int(np.max(X)) + 1\n",
        "    self.qa = np.zeros((self.n_clases, self.n_atrib, self.n_cat))\n",
        "\n",
        "    # Estima parámetros para cada clase, atributo y categoría (máximo a posteriori)\n",
        "    for c in self.clases:\n",
        "      for i in range(self.n_atrib):\n",
        "        X_ci = X[np.where(y == c), i]\n",
        "        for j in range(self.n_cat): \n",
        "          # Misma alfa para todas las categorías\n",
        "          self.qa[c, i, j] = (np.sum(X_ci == j) + alfa - 1) / (X_ci.shape[0] + alfa * self.n_cat - self.n_cat)\n",
        "\n",
        "    # Usa escala logarítmica para parámetros de verosimilitud\n",
        "    self.qa[self.qa == 0] = np.nextafter(0, 1)\n",
        "    self.qa[self.qa == 1] = np.nextafter(1, 0)\n",
        "    self.qa = np.log(self.qa)\n",
        "\n",
        "  def predict(self, X):\n",
        "    \"\"\"\n",
        "    Predice clases dada un conjunto de datos\n",
        "    \"\"\"\n",
        "    aposteriori = self.prob_clase_() + self.prob_cond_clase_(X)\n",
        "    return np.argmax(aposteriori, axis = 1), np.max(aposteriori, axis = 1)\n",
        "\n",
        "  def score(self, X, y):\n",
        "    \"\"\"\n",
        "    Calcula exactitud dado datos\n",
        "    \"\"\"\n",
        "    preds, probs = self.predict(X)\n",
        "    return np.mean(preds == y) * 100"
      ],
      "metadata": {
        "id": "NWHiWmlY0WgQ"
      },
      "execution_count": null,
      "outputs": []
    },
    {
      "cell_type": "code",
      "source": [
        "X_ent = train[['id_blancas', 'id_negras']].to_numpy()\n",
        "y_ent = train['ganador'].to_numpy()\n",
        "\n",
        "X_prueba = test[['id_blancas', 'id_negras']].to_numpy()\n",
        "y_prueba = test['ganador'].to_numpy()\n",
        "\n",
        "cnb = CategoricalNB()\n",
        "cnb.fit(X_ent, y_ent)\n",
        "\n",
        "print('Exactitud en entrenamiento: {0:.2f}%'.format(cnb.score(X_ent, y_ent)))\n",
        "print('Exactitud en prueba: {0:.2f}%'.format(cnb.score(X_prueba, y_prueba)))\n",
        "\n",
        "f,axs = plt.subplots(1,2, figsize=(10,5), sharey=True)\n",
        "\n",
        "axs[0].hist(y_ent, bins=[i for i in range(3)])\n",
        "axs[0].set_xticks(np.unique(y_ent))\n",
        "axs[0].set_xlabel(u'Categoría')\n",
        "axs[0].set_xlabel(u'Categoría')\n",
        "axs[0].set_ylabel('Frecuencia')\n",
        "axs[0].set_title(u'Entrenamiento')\n",
        "\n",
        "axs[1].hist(y_prueba, bins=[i for i in range(3)])\n",
        "axs[1].set_xticks(np.unique(y_prueba))\n",
        "axs[1].set_xlabel(u'Categoría')\n",
        "axs[1].set_title(u'Prueba')\n",
        "\n",
        "plt.subplots_adjust(wspace=0, hspace=0)\n",
        "plt.show()"
      ],
      "metadata": {
        "colab": {
          "base_uri": "https://localhost:8080/",
          "height": 385
        },
        "id": "dw_MNkf10YqT",
        "outputId": "59d242fa-3f95-4805-b078-6d909a854cda"
      },
      "execution_count": null,
      "outputs": [
        {
          "output_type": "stream",
          "name": "stdout",
          "text": [
            "Exactitud en entrenamiento: 84.64%\n",
            "Exactitud en prueba: 72.17%\n"
          ]
        },
        {
          "output_type": "display_data",
          "data": {
            "text/plain": [
              "<Figure size 720x360 with 2 Axes>"
            ],
            "image/png": "[encoded data removed]"
          },
          "metadata": {
            "needs_background": "light"
          }
        }
      ]
    },
    {
      "cell_type": "markdown",
      "source": [
        "Una vez modelada la probabilidad condicional, podemos generar datos sinteticos, para esto utilizaremos la funcion `sample()` de sklearn que hace esto mas sencillo.\n",
        "\n",
        "Para esto, necesitamos encontrar la distri ucion de Y, muestrearlo y como sabemos la distribucion de los otras variables las muestreamos tambien y asi generamos los datos sinteticos:\n",
        "\n",
        "Uso del módulo random de numpy para generar números aleatorios muestreados a partir de una distribución conocida"
      ],
      "metadata": {
        "id": "sXL27okCo-Ky"
      }
    },
    {
      "cell_type": "code",
      "source": [
        "# 319 para generar otro dataset del mismo tamaño, con la distribucion modelada\n",
        "sample_df = train.sample(100) # es muestreo aleatorio\n",
        "sample_df\n",
        "\n",
        "X_ent = sample_df[['id_blancas', 'id_negras']].to_numpy()\n",
        "y_ent = sample_df['ganador'].to_numpy()\n",
        "#probamos en el mismo conjunto de prueba\n",
        "X_prueba = test[['id_blancas', 'id_negras']].to_numpy()\n",
        "y_prueba = test['ganador'].to_numpy()\n",
        "\n",
        "cnb = CategoricalNB()\n",
        "cnb.fit(X_ent, y_ent)\n",
        "\n",
        "print('Exactitud en entrenamiento: {0:.2f}%'.format(cnb.score(X_ent, y_ent)))\n",
        "print('Exactitud en prueba: {0:.2f}%'.format(cnb.score(X_prueba, y_prueba)))\n",
        "\n",
        "f,axs = plt.subplots(1,2, figsize=(10,5), sharey=True)\n",
        "\n",
        "axs[0].hist(y_ent, bins=[i for i in range(3)])\n",
        "axs[0].set_xticks(np.unique(y_ent))\n",
        "axs[0].set_xlabel(u'Categoría')\n",
        "axs[0].set_xlabel(u'Categoría')\n",
        "axs[0].set_ylabel('Frecuencia')\n",
        "axs[0].set_title(u'Entrenamiento')\n",
        "\n",
        "axs[1].hist(y_prueba, bins=[i for i in range(3)])\n",
        "axs[1].set_xticks(np.unique(y_prueba))\n",
        "axs[1].set_xlabel(u'Categoría')\n",
        "axs[1].set_title(u'Prueba')\n",
        "\n",
        "plt.subplots_adjust(wspace=0, hspace=0)\n",
        "plt.show()"
      ],
      "metadata": {
        "colab": {
          "base_uri": "https://localhost:8080/",
          "height": 385
        },
        "id": "0DAHU4OozXWc",
        "outputId": "17231596-dc3f-42c7-d5a2-29fe5468494d"
      },
      "execution_count": null,
      "outputs": [
        {
          "output_type": "stream",
          "name": "stdout",
          "text": [
            "Exactitud en entrenamiento: 97.00%\n",
            "Exactitud en prueba: 64.35%\n"
          ]
        },
        {
          "output_type": "display_data",
          "data": {
            "text/plain": [
              "<Figure size 720x360 with 2 Axes>"
            ],
            "image/png": "[encoded data removed]"
          },
          "metadata": {
            "needs_background": "light"
          }
        }
      ]
    },
    {
      "cell_type": "markdown",
      "source": [
        "# Regresion logistica (binaria)\n",
        "\n"
      ],
      "metadata": {
        "id": "A9i8NpGo5xTK"
      }
    },
    {
      "cell_type": "markdown",
      "source": [
        "\n",
        "Vamos a entrenar un modelo de regresión lineal usando descenso por gradiente. En particular, buscaremos minimizar la suma de errores cuadráticos, la cual definimos de la siguiente manera:\n",
        "$$\n",
        "E(\\mathbf{y}, \\hat{\\mathbf{y}}) = \\frac{1}{2} \\sum_{i = 1} ^n \\left(\\hat{y^{(i)}} - y^{(i)}\\right)^2\n",
        "$$\n",
        "\n",
        "El gradiente de esta función de pérdida respecto a los parámetros $\\boldsymbol{\\theta} \\in \\mathbb{R}^d$ está dado por\n",
        "\n",
        "$$\n",
        "\\nabla E(\\mathbf{y}, \\hat{\\mathbf{y}}) = \\left[\\frac{\\partial E(\\mathbf{y}, \\hat{\\mathbf{y}})}{\\partial \\theta_0}, \\frac{\\partial E(\\mathbf{y}, \\hat{\\mathbf{y}})}{\\partial \\theta_1}, \\cdots, \\frac{\\partial E(\\mathbf{y}, \\hat{\\mathbf{y}})}{\\partial \\theta_d}\\right]\n",
        "$$\n",
        "\n",
        "donde\n",
        "\n",
        "$$\n",
        "\\frac{\\partial E(\\mathbf{y}, \\hat{\\mathbf{y}})}{\\partial \\theta_j} = \\sum_{i=1}^n \\left[ \\left(\\hat{y^{(i)}} - y^{(i)}\\right) \\cdot x_j^{(i)} \\right]\n",
        "$$"
      ],
      "metadata": {
        "id": "nxocBlgiCwSw"
      }
    },
    {
      "cell_type": "markdown",
      "source": [
        "Me basé en este tutorial para entender un poco mas a profundidad la [regresion logistica](https://www.cienciadedatos.net/documentos/py17-regresion-logistica-python.html)"
      ],
      "metadata": {
        "id": "TIt3_ybIdgwL"
      }
    },
    {
      "cell_type": "code",
      "source": [
        "import numpy as np \n",
        "import pandas as pd \n",
        "from sklearn.preprocessing import MinMaxScaler\n",
        "from sklearn.linear_model import LogisticRegression\n",
        "from sklearn.model_selection import train_test_split\n",
        "from sklearn.metrics import precision_recall_curve\n",
        "from sklearn.metrics import f1_score\n",
        "from sklearn.metrics import auc\n",
        "from sklearn.metrics import roc_curve\n",
        "from sklearn.metrics import roc_auc_score\n",
        "from matplotlib import pyplot"
      ],
      "metadata": {
        "id": "TzNYQt7uhpVb"
      },
      "execution_count": null,
      "outputs": []
    },
    {
      "cell_type": "markdown",
      "source": [
        "Utilizare la funcion MinMaxScaler() de sklearn para cambiar la codificacion de los datos de entrada. Basicamente esta funcion transforma las características escalando cada una de ellas a un rango determinado.\n",
        "\n",
        "Este estimador escala y traduce cada característica individualmente de manera que se encuentre en el rango dado en el conjunto de entrenamiento, por ejemplo, entre cero y uno"
      ],
      "metadata": {
        "id": "WWi3wNN6LR4B"
      }
    },
    {
      "cell_type": "code",
      "source": [
        "#Normalizamos los datos de X, con min max scaler\n",
        "\n",
        "from sklearn.preprocessing import OneHotEncoder\n",
        "train = pd.read_csv('https://raw.githubusercontent.com/gibranfp/CursoAprendizajeAutomatizado/master/data/partidas_entrenamiento.csv')\n",
        "\n",
        "X_ent = train[['id_blancas', 'id_negras']].to_numpy()\n",
        "y = train['ganador'].to_numpy()\n",
        "#intente con StandardScaler() y tampoco obtuve mejors resultados\n",
        "scaler = MinMaxScaler()\n",
        "X=scaler.fit(X_ent)\n",
        "\n",
        "X= scaler.transform(X_ent)\n"
      ],
      "metadata": {
        "id": "6suSKUHi5Vpk"
      },
      "execution_count": null,
      "outputs": []
    },
    {
      "cell_type": "markdown",
      "source": [
        "Defino la clase LogisticRegression_(), la funcion update_weights basicamente calcula la regla de actualizacion en cada iteración, despues deiniendo la funcion fit que hace uso de esta anterior, ajustando los parametros. Y por ultimo la funcion predict que nos retorna las salidas y."
      ],
      "metadata": {
        "id": "G9zK-mI_oEAk"
      }
    },
    {
      "cell_type": "code",
      "source": [
        "class LogisticRegression_() : \n",
        "    def __init__(self, alpha, iterations):\n",
        "        self.alpha = alpha         \n",
        "        self.iterations = iterations \n",
        "     #regla de actualizacion       \n",
        "    def update_weights(self) :            \n",
        "        A = 1 / (1 + np.exp(-(self.X.dot(self.W)+self.b))) \n",
        "     \n",
        "        tmp = ( A - self.Y.T )         \n",
        "        tmp = np.reshape( tmp, self.m )         \n",
        "        dW = np.dot( self.X.T, tmp ) / self.m          \n",
        "        db = np.sum( tmp ) / self.m  \n",
        "          \n",
        "        \n",
        "        self.W = self.W - self.alpha * dW     \n",
        "        self.b = self.b - self.alpha * db \n",
        "          \n",
        "        return self\n",
        "\n",
        "    def fit( self, X, Y ) :         \n",
        "        self.m, self.n = X.shape         \n",
        "        self.W = np.zeros( self.n )         \n",
        "        self.b = 0        \n",
        "        self.X = X         \n",
        "        self.Y = Y             \n",
        "        for i in range( self.iterations ) :             \n",
        "            self.update_weights()             \n",
        "        return self\n",
        "      \n",
        "    def predict( self, X ) :     \n",
        "        Z = 1 / ( 1 + np.exp( - ( X.dot( self.W ) + self.b ) ) )         \n",
        "        Y = np.where( Z > 0.5, 1, 0 )         \n",
        "        return Y "
      ],
      "metadata": {
        "id": "vJHyYW6gn2Kd"
      },
      "execution_count": null,
      "outputs": []
    },
    {
      "cell_type": "markdown",
      "source": [
        "Veamos el accuracy de nuestro descenso por gradiente"
      ],
      "metadata": {
        "id": "eTKkgPlfC1_q"
      }
    },
    {
      "cell_type": "code",
      "source": [
        "alpha =0.01\n",
        "X_train, X_test, y_train, y_test = train_test_split(X, y, test_size = 1/3, random_state = 0) \n",
        "  \n",
        "model = LogisticRegression_(alpha,iterations = 50) \n",
        "  \n",
        "model.fit(X_train,y_train)     \n",
        "model1 = LogisticRegression()     \n",
        "model1.fit(X_train,y_train) \n",
        "Y_pred = model.predict(X_test)     \n",
        "Y_pred1 = model1.predict(X_test) \n",
        "aux = 0    \n",
        "aux1 = 0\n",
        "count = 0   \n",
        "for count in range(np.size(Y_pred)):   \n",
        "    \n",
        "    if y_test[count] == Y_pred[count]:             \n",
        "        aux = aux + 1\n",
        "      \n",
        "    if y_test[count] == Y_pred1[count]:             \n",
        "        aux1 = aux1 + 1\n",
        "          \n",
        "    count = count + 1\n",
        "      \n",
        "print( \"Accuracy de mi modelo:\",(aux/count) * 100) \n",
        "print( \"Accuracy de sklearn :\",(aux1/count) * 100) "
      ],
      "metadata": {
        "colab": {
          "base_uri": "https://localhost:8080/"
        },
        "id": "Gf1iDcJsTOuv",
        "outputId": "a1964dac-56f5-4c50-ba2a-3cb60cbb4d42"
      },
      "execution_count": null,
      "outputs": [
        {
          "output_type": "stream",
          "name": "stdout",
          "text": [
            "Accuracy de mi modelo: 51.4018691588785\n",
            "Accuracy de sklearn : 57.009345794392516\n"
          ]
        }
      ]
    },
    {
      "cell_type": "markdown",
      "source": [
        "Curva ROC"
      ],
      "metadata": {
        "id": "8N8WJ6KdLyxI"
      }
    },
    {
      "cell_type": "code",
      "source": [
        "#Generamos un clasificador sin entrenar , que asignará 0 a todo\n",
        "ns_probs = [0 for _ in range(len(y_test))]\n",
        "#con 100 iteraciones obtengo algo poco diferente al modelo sin entrenar \n",
        "model = LogisticRegression_(alpha = 0.9, iterations= 100)  \n",
        "  \n",
        "model.fit(X_train,y_train)     \n",
        "# Predecimos las probabilidades\n",
        "lr_probs = model.predict(X_test)\n",
        "#Nos quedamos con las probabilidades de la clase positiva (la probabilidad de 1)\n",
        "# Calculamos el AUC\n",
        "ns_auc = roc_auc_score(y_test, ns_probs)\n",
        "lr_auc = roc_auc_score(y_test, lr_probs)\n",
        "\n",
        "#area bajo la curva\n",
        "print('Sin entrenar: ROC AUC=%.3f' % (ns_auc))\n",
        "print('Regresión Logística: ROC AUC=%.3f' % (lr_auc))\n",
        "# Calculamos las curvas ROC\n",
        "ns_fpr, ns_tpr, _ = roc_curve(y_test, ns_probs)\n",
        "lr_fpr, lr_tpr, _ = roc_curve(y_test, lr_probs)\n",
        "\n",
        "pyplot.plot(ns_fpr, ns_tpr, linestyle='--', label='Sin entrenar')\n",
        "pyplot.plot(lr_fpr, lr_tpr, marker='.', label='Regresión Logística')\n"
      ],
      "metadata": {
        "colab": {
          "base_uri": "https://localhost:8080/",
          "height": 317
        },
        "id": "H3tllvkaMGyh",
        "outputId": "fe54261b-46a0-48fe-fcbc-a854f3d5354e"
      },
      "execution_count": null,
      "outputs": [
        {
          "output_type": "stream",
          "name": "stdout",
          "text": [
            "Sin entrenar: ROC AUC=0.500\n",
            "Regresión Logística: ROC AUC=0.545\n"
          ]
        },
        {
          "output_type": "execute_result",
          "data": {
            "text/plain": [
              "[<matplotlib.lines.Line2D at 0x7efe3e26a550>]"
            ]
          },
          "metadata": {},
          "execution_count": 10
        },
        {
          "output_type": "display_data",
          "data": {
            "text/plain": [
              "<Figure size 432x288 with 1 Axes>"
            ],
            "image/png": "[encoded data removed]"
          },
          "metadata": {
            "needs_background": "light"
          }
        }
      ]
    },
    {
      "cell_type": "markdown",
      "source": [
        "Podemos ver el pobre resultado que obtenemos con el modelo, ya que tiene ≈ .055 mas de area por debajo de la curva, debido al accuracy del modelo"
      ],
      "metadata": {
        "id": "6Qx7jPzZlae_"
      }
    },
    {
      "cell_type": "code",
      "source": [
        "# Evaluamos con K fold\n",
        "from numpy import mean,std\n",
        "from sklearn.model_selection import KFold\n",
        "from sklearn.model_selection import cross_val_score\n",
        "\n",
        "X_ent = train[['id_blancas', 'id_negras']].to_numpy()\n",
        "y = train['ganador'].to_numpy()\n",
        "\n",
        "scaler = MinMaxScaler()\n",
        "X=scaler.fit(X_ent)\n",
        "\n",
        "X= scaler.transform(X_ent)\n",
        "X\n",
        "\n",
        "# prepare the cross-validation procedure\n",
        "cv = KFold(n_splits=5, random_state=1, shuffle=True)\n",
        "# create model\n",
        "model = LogisticRegression()\n",
        "# evaluate model\n",
        "scores = cross_val_score(model, X, y, scoring='accuracy', cv=cv, n_jobs=-1)\n",
        "# report performance\n",
        "print('Accuracy: %.3f (%.3f)' % (mean(scores), std(scores)))"
      ],
      "metadata": {
        "colab": {
          "base_uri": "https://localhost:8080/"
        },
        "id": "sORUpYwjfoz6",
        "outputId": "031115c7-76a1-486f-9c4f-fd1ed6901fca"
      },
      "execution_count": null,
      "outputs": [
        {
          "output_type": "stream",
          "name": "stdout",
          "text": [
            "Accuracy: 0.527 (0.054)\n"
          ]
        }
      ]
    },
    {
      "cell_type": "markdown",
      "source": [
        "**¿Qué ventajas y desventajas tienen los modelos entrenados?**\n",
        "\n",
        "\n",
        "**¿Qué pasaría si se entrena el clasificador bayesiano ingenuo con los vectores recodificados o si se entrena un modelo de regresión logística usando los vectores de entrada originales?**\n",
        "Afecta en el grado que hacen las predicciones/clasificaciones ya que es importante obtener la distribucion de los datos para poder implementar correctamente un tipo de clasificador o modelo de regresion"
      ],
      "metadata": {
        "id": "JDTW-hfnY5M4"
      }
    },
    {
      "cell_type": "markdown",
      "source": [
        "**¿Consideras que las presuposiciones de cada clasificador son apropiadas para los datos del problema? ¿Para este tipo de problemas cuál de los dos recomendarías y por qué?**\n",
        "\n",
        "No, siempre hay que tener un buen grasp en la relacion que tienen los datos en si. Y en este caso en especifico yo eligiría el clasificador ingenuo, debido a la distribucion de los datos, es mas facil implementarlo de esta manera."
      ],
      "metadata": {
        "id": "pO5e-ACxoCVN"
      }
    },
    {
      "cell_type": "markdown",
      "source": [
        "## Ejercicio Extra\n",
        "\n",
        "Deriva la regla de actualización para el algoritmo del descenso por gradiente de un clasificador donde $$ \\hat{y} = sigm(Θ^{T}x) $$\n",
        "y la funcion de perdida es:\n",
        "$$\n",
        "E(Θ) = \\frac{1}{2} \\sum_{i = 1} ^n \\left(\\hat{y^{(i)}} - y^{(i)}\\right)^2\n",
        "$$"
      ],
      "metadata": {
        "id": "vJPT_rPOG9qT"
      }
    },
    {
      "cell_type": "code",
      "source": [
        ""
      ],
      "metadata": {
        "id": "vyPp6v20gMlp"
      },
      "execution_count": null,
      "outputs": []
    },
    {
      "cell_type": "markdown",
      "source": [
        "# Regresión logística vs clasificador bayesiano ingenuo\n",
        "\n",
        "Primero haremos ambos en spam y luego ambos en cancer"
      ],
      "metadata": {
        "id": "mhuzRHlhI_Ub"
      }
    },
    {
      "cell_type": "markdown",
      "source": [
        "Regresion logistica en spam"
      ],
      "metadata": {
        "id": "rh6m4ZlcSG9Q"
      }
    },
    {
      "cell_type": "code",
      "source": [
        "from sklearn.model_selection import StratifiedKFold \n",
        "\n",
        "df = pd.read_csv('http://turing.iimas.unam.mx/~gibranfp/cursos/aprendizaje_automatizado/data/spam.csv', delim_whitespace=' ', header=None)\n",
        "\n",
        "data = df.to_numpy()\n",
        "y = data[:,-1]\n",
        "X = np.delete(data,-1, axis = 1 )\n",
        "X.shape, y.shape\n"
      ],
      "metadata": {
        "colab": {
          "base_uri": "https://localhost:8080/"
        },
        "id": "aLqd3iIxJiZ1",
        "outputId": "db852697-29d2-42d0-d710-0953f9aa20da"
      },
      "execution_count": null,
      "outputs": [
        {
          "output_type": "execute_result",
          "data": {
            "text/plain": [
              "((5172, 2000), (5172,))"
            ]
          },
          "metadata": {},
          "execution_count": 12
        }
      ]
    },
    {
      "cell_type": "code",
      "source": [
        "alpha =0.001\n",
        "X_train, X_test, y_train, y_test = train_test_split(X, y, test_size = 1/3, random_state = 0) \n",
        "  \n",
        "model = LogisticRegression_(alpha,iterations = 50) \n",
        "  \n",
        "model.fit(X_train,y_train)     \n",
        "model1 = LogisticRegression()\n",
        "model1.fit(X_train,y_train) \n",
        "Y_pred = model.predict(X_test)     \n",
        "Y_pred1 = model1.predict(X_test) \n",
        "aux = 0    \n",
        "aux1 = 0\n",
        "count = 0   \n",
        "for count in range(np.size(Y_pred)):   \n",
        "    \n",
        "    if y_test[count] == Y_pred[count]:             \n",
        "        aux = aux + 1\n",
        "      \n",
        "    if y_test[count] == Y_pred1[count]:             \n",
        "        aux1 = aux1 + 1\n",
        "          \n",
        "    count = count + 1\n",
        "      \n",
        "print( \"Accuracy de mi modelo:\",(aux/count) * 100) \n",
        "print( \"Accuracy de sklearn :\",(aux1/count) * 100) "
      ],
      "metadata": {
        "colab": {
          "base_uri": "https://localhost:8080/"
        },
        "id": "rzjEOktHLmyW",
        "outputId": "c0df8291-d372-47a7-f97f-00d2f50331bd"
      },
      "execution_count": null,
      "outputs": [
        {
          "output_type": "stream",
          "name": "stdout",
          "text": [
            "Accuracy de mi modelo: 73.49187935034803\n",
            "Accuracy de sklearn : 96.98375870069606\n"
          ]
        }
      ]
    },
    {
      "cell_type": "markdown",
      "source": [
        "CLasificador bayesiano en spam"
      ],
      "metadata": {
        "id": "IIaK42RqNWi0"
      }
    },
    {
      "cell_type": "code",
      "source": [
        "cnb = CategoricalNB()\n",
        "cnb.fit(X_train, y_train)\n",
        "\n",
        "print('Exactitud en entrenamiento: {0:.2f}%'.format(cnb.score(X_train, y_train)))\n",
        "print('Exactitud en prueba: {0:.2f}%'.format(cnb.score(X_test, y_test)))\n",
        "\n",
        "f,axs = plt.subplots(1,2, figsize=(10,5), sharey=True)\n",
        "\n",
        "axs[0].hist(y_train, bins=[i for i in range(3)])\n",
        "axs[0].set_xticks(np.unique(y_ent))\n",
        "axs[0].set_xlabel(u'Categoría')\n",
        "axs[0].set_xlabel(u'Categoría')\n",
        "axs[0].set_ylabel('Frecuencia')\n",
        "axs[0].set_title(u'Entrenamiento')\n",
        "\n",
        "axs[1].hist(y_test, bins=[i for i in range(3)])\n",
        "axs[1].set_xticks(np.unique(y_test))\n",
        "axs[1].set_xlabel(u'Categoría')\n",
        "axs[1].set_title(u'Prueba')\n",
        "\n",
        "plt.subplots_adjust(wspace=0, hspace=0)\n",
        "plt.show()\n"
      ],
      "metadata": {
        "colab": {
          "base_uri": "https://localhost:8080/",
          "height": 385
        },
        "id": "RCRlKR1xNYMz",
        "outputId": "f9db5597-11dc-4351-b3c0-b934982b6b50"
      },
      "execution_count": null,
      "outputs": [
        {
          "output_type": "stream",
          "name": "stdout",
          "text": [
            "Exactitud en entrenamiento: 70.36%\n",
            "Exactitud en prueba: 72.27%\n"
          ]
        },
        {
          "output_type": "display_data",
          "data": {
            "text/plain": [
              "<Figure size 720x360 with 2 Axes>"
            ],
            "image/png": "[encoded data removed]"
          },
          "metadata": {
            "needs_background": "light"
          }
        }
      ]
    },
    {
      "cell_type": "markdown",
      "source": [
        "Regresion logistica en cancer\n"
      ],
      "metadata": {
        "id": "Bdso94SPTTJ8"
      }
    },
    {
      "cell_type": "markdown",
      "source": [
        "Aqui por simplicidad utilicé la regresion de sklearn"
      ],
      "metadata": {
        "id": "CkalgV5RWAlg"
      }
    },
    {
      "cell_type": "code",
      "source": [
        "from sklearn.metrics import accuracy_score\n",
        "from sklearn import preprocessing \n",
        "\n",
        "data=pd.read_csv('https://archive.ics.uci.edu/ml/machine-learning-databases/breast-cancer-wisconsin/breast-cancer-wisconsin.data')\n",
        "data.columns = ['Sample code number','Clump Thickness','Uniformity Cell Size','Uniformity of Cell Shape','Marginal Adhesion','Single Epithelial Cell Size','Bare Nuclei','Bland Chromatin','Normal Nucleoli','Mitoses','Class']\n",
        "\n",
        "column_names = ['Sample code number','Clump Thickness','Uniformity Cell Size','Uniformity of Cell Shape','Marginal Adhesion','Single Epithelial Cell Size','Bare Nuclei','Bland Chromatin','Normal Nucleoli','Mitoses','Class']\n",
        "\n",
        "#replace '?' for NaN \n",
        "data=data.replace(to_replace='?',value=np.nan)\n",
        "missing = pd.isna(data).sum()\n",
        "\n",
        "data['Bare Nuclei'] = pd.to_numeric(data['Bare Nuclei']) # convertir la columna a tipo numerico (estaba en str)\n",
        "data['Bare Nuclei'] = round(data['Bare Nuclei'].fillna(data['Bare Nuclei'].mean()),2)\n",
        "missing = pd.isna(data).sum()\n",
        "\n",
        "y = data['Class']\n",
        "\n",
        "data = data.drop(['Sample code number','Class'], axis = 1)\n",
        "data.head(25) ## 16 inputting media (3.548387)\n",
        "\n",
        "x = data\n",
        "\n",
        "alpha =0.001\n",
        "X_train, X_test, y_train, y_test = train_test_split(x, y, test_size = 1/3, random_state = 0) \n",
        "  \n",
        "  \n",
        "model1 = LogisticRegression()\n",
        "model1.fit(X_train,y_train) \n",
        "y_test = model1.predict(X_test) \n",
        "\n",
        "scaler = preprocessing.MinMaxScaler() #utilizamos de nuevo minmax para evitar error en las operaciones \n",
        "\n",
        "x_scaled = scaler.fit_transform(x) \n",
        "\n",
        "skf = StratifiedKFold(n_splits=5, shuffle=True, random_state=1) \n",
        "lst_accu_stratified = [] \n",
        "   \n",
        "for train_index, test_index in skf.split(x, y): \n",
        "    x_train_fold, x_test_fold = x_scaled[train_index], x_scaled[test_index] \n",
        "    y_train_fold, y_test_fold = y[train_index], y[test_index] \n",
        "    model1.fit(x_train_fold, y_train_fold) \n",
        "    lst_accu_stratified.append(model1.score(x_test_fold, y_test_fold)) \n",
        "   \n",
        "print('\\nList of possible accuracy:', lst_accu_stratified) \n",
        "print('\\nMaximum Accuracy That can be obtained from this model is:', \n",
        "      max(lst_accu_stratified)*100, '%') \n",
        "print('\\nMinimum Accuracy:', \n",
        "      min(lst_accu_stratified)*100, '%') \n",
        "print('\\nOverall Accuracy:', \n",
        "      mean(lst_accu_stratified)*100, '%') \n"
      ],
      "metadata": {
        "colab": {
          "base_uri": "https://localhost:8080/"
        },
        "id": "a0AB00n4TVZt",
        "outputId": "59ac94ab-18be-49e7-fab4-08e412f0fcd7"
      },
      "execution_count": null,
      "outputs": [
        {
          "output_type": "stream",
          "name": "stdout",
          "text": [
            "\n",
            "List of possible accuracy: [0.9785714285714285, 0.9571428571428572, 0.9571428571428572, 0.9640287769784173, 0.9640287769784173]\n",
            "\n",
            "Maximum Accuracy That can be obtained from this model is: 97.85714285714285 %\n",
            "\n",
            "Minimum Accuracy: 95.71428571428572 %\n",
            "\n",
            "Overall Accuracy: 96.41829393627954 %\n"
          ]
        }
      ]
    },
    {
      "cell_type": "markdown",
      "source": [
        "Clasificador bayersiano en cancer"
      ],
      "metadata": {
        "id": "FSB8leftTU_5"
      }
    },
    {
      "cell_type": "code",
      "source": [
        "from sklearn.naive_bayes import MultinomialNB\n",
        "from sklearn.metrics import mean_squared_error\n",
        "train\n",
        "mnb = MultinomialNB()\n",
        "mnb=mnb.fit(X_train,y_train)\n",
        "y_train_pred=mnb.predict(X_train)\n",
        "\n",
        "accuracy = mnb.score(X_train, y_train)\n",
        "\n",
        "# cv es el parametro donde le pasamos cuantos k seran los folds \n",
        "# seleccionamos mse en el parametro scoring, segun : https://scikit-learn.org/stable/modules/model_evaluation.html#scoring-parameter \n",
        "\n",
        "#stratifiedkfold \n",
        "\n",
        "\n",
        "skf = StratifiedKFold(n_splits=5, shuffle=True, random_state=1) \n",
        "lst_accu_stratified = [] \n",
        "   \n",
        "scaler = preprocessing.MinMaxScaler() #utilizamos de nuevo minmax para evitar error\n",
        "\n",
        "x_scaled = scaler.fit_transform(x) \n",
        "for train_index, test_index in skf.split(x, y): \n",
        "    x_train_fold, x_test_fold = x_scaled[train_index], x_scaled[test_index] \n",
        "    y_train_fold, y_test_fold = y[train_index], y[test_index] \n",
        "    mnb.fit(x_train_fold, y_train_fold) \n",
        "    lst_accu_stratified.append(mnb.score(x_test_fold, y_test_fold)) \n",
        "   \n",
        "print('\\nList of possible accuracy:', lst_accu_stratified) \n",
        "print('\\nMaximum Accuracy That can be obtained from this model is:', \n",
        "      max(lst_accu_stratified)*100, '%') \n",
        "print('\\nMinimum Accuracy:', \n",
        "      min(lst_accu_stratified)*100, '%') \n",
        "print('\\nOverall Accuracy:', \n",
        "      mean(lst_accu_stratified)*100, '%') \n"
      ],
      "metadata": {
        "colab": {
          "base_uri": "https://localhost:8080/"
        },
        "id": "_FZzwloYTWXW",
        "outputId": "1bcda32f-ae51-49e1-a28d-1379a10248c3"
      },
      "execution_count": null,
      "outputs": [
        {
          "output_type": "stream",
          "name": "stdout",
          "text": [
            "\n",
            "List of possible accuracy: [0.9, 0.9142857142857143, 0.8785714285714286, 0.8848920863309353, 0.8705035971223022]\n",
            "\n",
            "Maximum Accuracy That can be obtained from this model is: 91.42857142857143 %\n",
            "\n",
            "Minimum Accuracy: 87.05035971223022 %\n",
            "\n",
            "Overall Accuracy: 88.9650565262076 %\n"
          ]
        }
      ]
    },
    {
      "cell_type": "markdown",
      "source": [
        "En esta ultima parte podemos ver que en regresion logistica (con la clase de sklearn) tenemos un accuracy mayor, asi como tambien en el de spam. Pero a grosso modo, puedo concluir que el accuracy de mi modelo de decenso por gradiente tiene un buen grado de prediccion en termino generales.(No logre validar los dos primeros con stratifiedkfold por el tiempo ya que no queria entregar la tarea con mas retraso)"
      ],
      "metadata": {
        "id": "abi1VNRdklJn"
      }
    }
  ]
}