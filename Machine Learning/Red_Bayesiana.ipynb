{
  "nbformat": 4,
  "nbformat_minor": 0,
  "metadata": {
    "colab": {
      "name": "Red Bayesiana.ipynb",
      "provenance": []
    },
    "kernelspec": {
      "name": "python3",
      "display_name": "Python 3"
    },
    "language_info": {
      "name": "python"
    },
    "widgets": {
      "application/vnd.jupyter.widget-state+json": {
        "b50bbdba4ab44690989cf7800bfa247f": {
          "model_module": "@jupyter-widgets/controls",
          "model_name": "HBoxModel",
          "model_module_version": "1.5.0",
          "state": {
            "_dom_classes": [],
            "_model_module": "@jupyter-widgets/controls",
            "_model_module_version": "1.5.0",
            "_model_name": "HBoxModel",
            "_view_count": null,
            "_view_module": "@jupyter-widgets/controls",
            "_view_module_version": "1.5.0",
            "_view_name": "HBoxView",
            "box_style": "",
            "children": [
              "IPY_MODEL_0f0ddb68870143e69339efc815ecd163",
              "IPY_MODEL_49ef9ef2861f4efea29edf1f2fd2d416",
              "IPY_MODEL_f0a150ee91e048c2a5479254c2276df5"
            ],
            "layout": "IPY_MODEL_5f8e7d71261346539d00b50568668444"
          }
        },
        "0f0ddb68870143e69339efc815ecd163": {
          "model_module": "@jupyter-widgets/controls",
          "model_name": "HTMLModel",
          "model_module_version": "1.5.0",
          "state": {
            "_dom_classes": [],
            "_model_module": "@jupyter-widgets/controls",
            "_model_module_version": "1.5.0",
            "_model_name": "HTMLModel",
            "_view_count": null,
            "_view_module": "@jupyter-widgets/controls",
            "_view_module_version": "1.5.0",
            "_view_name": "HTMLView",
            "description": "",
            "description_tooltip": null,
            "layout": "IPY_MODEL_f22d708bd20e4ceb963e79a9735eaf9d",
            "placeholder": "​",
            "style": "IPY_MODEL_553bf52611c843b8a45789bb98668aad",
            "value": "Finding Elimination Order: :   0%"
          }
        },
        "49ef9ef2861f4efea29edf1f2fd2d416": {
          "model_module": "@jupyter-widgets/controls",
          "model_name": "FloatProgressModel",
          "model_module_version": "1.5.0",
          "state": {
            "_dom_classes": [],
            "_model_module": "@jupyter-widgets/controls",
            "_model_module_version": "1.5.0",
            "_model_name": "FloatProgressModel",
            "_view_count": null,
            "_view_module": "@jupyter-widgets/controls",
            "_view_module_version": "1.5.0",
            "_view_name": "ProgressView",
            "bar_style": "",
            "description": "",
            "description_tooltip": null,
            "layout": "IPY_MODEL_9a5949b72db64acea81cfdc2bb6923c8",
            "max": 3,
            "min": 0,
            "orientation": "horizontal",
            "style": "IPY_MODEL_c321efd3d33f4e1f9de030a062d661f5",
            "value": 0
          }
        },
        "f0a150ee91e048c2a5479254c2276df5": {
          "model_module": "@jupyter-widgets/controls",
          "model_name": "HTMLModel",
          "model_module_version": "1.5.0",
          "state": {
            "_dom_classes": [],
            "_model_module": "@jupyter-widgets/controls",
            "_model_module_version": "1.5.0",
            "_model_name": "HTMLModel",
            "_view_count": null,
            "_view_module": "@jupyter-widgets/controls",
            "_view_module_version": "1.5.0",
            "_view_name": "HTMLView",
            "description": "",
            "description_tooltip": null,
            "layout": "IPY_MODEL_eece13ec0f0343379a80b5ac82236245",
            "placeholder": "​",
            "style": "IPY_MODEL_84761e4fdea1430497e42105d4cd172e",
            "value": " 0/3 [00:00&lt;?, ?it/s]"
          }
        },
        "5f8e7d71261346539d00b50568668444": {
          "model_module": "@jupyter-widgets/base",
          "model_name": "LayoutModel",
          "model_module_version": "1.2.0",
          "state": {
            "_model_module": "@jupyter-widgets/base",
            "_model_module_version": "1.2.0",
            "_model_name": "LayoutModel",
            "_view_count": null,
            "_view_module": "@jupyter-widgets/base",
            "_view_module_version": "1.2.0",
            "_view_name": "LayoutView",
            "align_content": null,
            "align_items": null,
            "align_self": null,
            "border": null,
            "bottom": null,
            "display": null,
            "flex": null,
            "flex_flow": null,
            "grid_area": null,
            "grid_auto_columns": null,
            "grid_auto_flow": null,
            "grid_auto_rows": null,
            "grid_column": null,
            "grid_gap": null,
            "grid_row": null,
            "grid_template_areas": null,
            "grid_template_columns": null,
            "grid_template_rows": null,
            "height": null,
            "justify_content": null,
            "justify_items": null,
            "left": null,
            "margin": null,
            "max_height": null,
            "max_width": null,
            "min_height": null,
            "min_width": null,
            "object_fit": null,
            "object_position": null,
            "order": null,
            "overflow": null,
            "overflow_x": null,
            "overflow_y": null,
            "padding": null,
            "right": null,
            "top": null,
            "visibility": null,
            "width": null
          }
        },
        "f22d708bd20e4ceb963e79a9735eaf9d": {
          "model_module": "@jupyter-widgets/base",
          "model_name": "LayoutModel",
          "model_module_version": "1.2.0",
          "state": {
            "_model_module": "@jupyter-widgets/base",
            "_model_module_version": "1.2.0",
            "_model_name": "LayoutModel",
            "_view_count": null,
            "_view_module": "@jupyter-widgets/base",
            "_view_module_version": "1.2.0",
            "_view_name": "LayoutView",
            "align_content": null,
            "align_items": null,
            "align_self": null,
            "border": null,
            "bottom": null,
            "display": null,
            "flex": null,
            "flex_flow": null,
            "grid_area": null,
            "grid_auto_columns": null,
            "grid_auto_flow": null,
            "grid_auto_rows": null,
            "grid_column": null,
            "grid_gap": null,
            "grid_row": null,
            "grid_template_areas": null,
            "grid_template_columns": null,
            "grid_template_rows": null,
            "height": null,
            "justify_content": null,
            "justify_items": null,
            "left": null,
            "margin": null,
            "max_height": null,
            "max_width": null,
            "min_height": null,
            "min_width": null,
            "object_fit": null,
            "object_position": null,
            "order": null,
            "overflow": null,
            "overflow_x": null,
            "overflow_y": null,
            "padding": null,
            "right": null,
            "top": null,
            "visibility": null,
            "width": null
          }
        },
        "553bf52611c843b8a45789bb98668aad": {
          "model_module": "@jupyter-widgets/controls",
          "model_name": "DescriptionStyleModel",
          "model_module_version": "1.5.0",
          "state": {
            "_model_module": "@jupyter-widgets/controls",
            "_model_module_version": "1.5.0",
            "_model_name": "DescriptionStyleModel",
            "_view_count": null,
            "_view_module": "@jupyter-widgets/base",
            "_view_module_version": "1.2.0",
            "_view_name": "StyleView",
            "description_width": ""
          }
        },
        "9a5949b72db64acea81cfdc2bb6923c8": {
          "model_module": "@jupyter-widgets/base",
          "model_name": "LayoutModel",
          "model_module_version": "1.2.0",
          "state": {
            "_model_module": "@jupyter-widgets/base",
            "_model_module_version": "1.2.0",
            "_model_name": "LayoutModel",
            "_view_count": null,
            "_view_module": "@jupyter-widgets/base",
            "_view_module_version": "1.2.0",
            "_view_name": "LayoutView",
            "align_content": null,
            "align_items": null,
            "align_self": null,
            "border": null,
            "bottom": null,
            "display": null,
            "flex": null,
            "flex_flow": null,
            "grid_area": null,
            "grid_auto_columns": null,
            "grid_auto_flow": null,
            "grid_auto_rows": null,
            "grid_column": null,
            "grid_gap": null,
            "grid_row": null,
            "grid_template_areas": null,
            "grid_template_columns": null,
            "grid_template_rows": null,
            "height": null,
            "justify_content": null,
            "justify_items": null,
            "left": null,
            "margin": null,
            "max_height": null,
            "max_width": null,
            "min_height": null,
            "min_width": null,
            "object_fit": null,
            "object_position": null,
            "order": null,
            "overflow": null,
            "overflow_x": null,
            "overflow_y": null,
            "padding": null,
            "right": null,
            "top": null,
            "visibility": null,
            "width": null
          }
        },
        "c321efd3d33f4e1f9de030a062d661f5": {
          "model_module": "@jupyter-widgets/controls",
          "model_name": "ProgressStyleModel",
          "model_module_version": "1.5.0",
          "state": {
            "_model_module": "@jupyter-widgets/controls",
            "_model_module_version": "1.5.0",
            "_model_name": "ProgressStyleModel",
            "_view_count": null,
            "_view_module": "@jupyter-widgets/base",
            "_view_module_version": "1.2.0",
            "_view_name": "StyleView",
            "bar_color": null,
            "description_width": ""
          }
        },
        "eece13ec0f0343379a80b5ac82236245": {
          "model_module": "@jupyter-widgets/base",
          "model_name": "LayoutModel",
          "model_module_version": "1.2.0",
          "state": {
            "_model_module": "@jupyter-widgets/base",
            "_model_module_version": "1.2.0",
            "_model_name": "LayoutModel",
            "_view_count": null,
            "_view_module": "@jupyter-widgets/base",
            "_view_module_version": "1.2.0",
            "_view_name": "LayoutView",
            "align_content": null,
            "align_items": null,
            "align_self": null,
            "border": null,
            "bottom": null,
            "display": null,
            "flex": null,
            "flex_flow": null,
            "grid_area": null,
            "grid_auto_columns": null,
            "grid_auto_flow": null,
            "grid_auto_rows": null,
            "grid_column": null,
            "grid_gap": null,
            "grid_row": null,
            "grid_template_areas": null,
            "grid_template_columns": null,
            "grid_template_rows": null,
            "height": null,
            "justify_content": null,
            "justify_items": null,
            "left": null,
            "margin": null,
            "max_height": null,
            "max_width": null,
            "min_height": null,
            "min_width": null,
            "object_fit": null,
            "object_position": null,
            "order": null,
            "overflow": null,
            "overflow_x": null,
            "overflow_y": null,
            "padding": null,
            "right": null,
            "top": null,
            "visibility": null,
            "width": null
          }
        },
        "84761e4fdea1430497e42105d4cd172e": {
          "model_module": "@jupyter-widgets/controls",
          "model_name": "DescriptionStyleModel",
          "model_module_version": "1.5.0",
          "state": {
            "_model_module": "@jupyter-widgets/controls",
            "_model_module_version": "1.5.0",
            "_model_name": "DescriptionStyleModel",
            "_view_count": null,
            "_view_module": "@jupyter-widgets/base",
            "_view_module_version": "1.2.0",
            "_view_name": "StyleView",
            "description_width": ""
          }
        },
        "8b0a300789284215841a7a8296ebd474": {
          "model_module": "@jupyter-widgets/controls",
          "model_name": "HBoxModel",
          "model_module_version": "1.5.0",
          "state": {
            "_dom_classes": [],
            "_model_module": "@jupyter-widgets/controls",
            "_model_module_version": "1.5.0",
            "_model_name": "HBoxModel",
            "_view_count": null,
            "_view_module": "@jupyter-widgets/controls",
            "_view_module_version": "1.5.0",
            "_view_name": "HBoxView",
            "box_style": "",
            "children": [
              "IPY_MODEL_02fbcd5dea654cfdafa4beac8c87668f",
              "IPY_MODEL_12536cd1d2dd47c7bc498ed7d1d15749",
              "IPY_MODEL_c29c56de992a41209c75f58ebd5b80d7"
            ],
            "layout": "IPY_MODEL_4701a76df98449fda3a823bd25ec4822"
          }
        },
        "02fbcd5dea654cfdafa4beac8c87668f": {
          "model_module": "@jupyter-widgets/controls",
          "model_name": "HTMLModel",
          "model_module_version": "1.5.0",
          "state": {
            "_dom_classes": [],
            "_model_module": "@jupyter-widgets/controls",
            "_model_module_version": "1.5.0",
            "_model_name": "HTMLModel",
            "_view_count": null,
            "_view_module": "@jupyter-widgets/controls",
            "_view_module_version": "1.5.0",
            "_view_name": "HTMLView",
            "description": "",
            "description_tooltip": null,
            "layout": "IPY_MODEL_c5fd4de8c8204c7b91881c3c943170e6",
            "placeholder": "​",
            "style": "IPY_MODEL_06d659d3f07d4fbc86ea1f333a0fb04c",
            "value": "Eliminating: Fiebre: 100%"
          }
        },
        "12536cd1d2dd47c7bc498ed7d1d15749": {
          "model_module": "@jupyter-widgets/controls",
          "model_name": "FloatProgressModel",
          "model_module_version": "1.5.0",
          "state": {
            "_dom_classes": [],
            "_model_module": "@jupyter-widgets/controls",
            "_model_module_version": "1.5.0",
            "_model_name": "FloatProgressModel",
            "_view_count": null,
            "_view_module": "@jupyter-widgets/controls",
            "_view_module_version": "1.5.0",
            "_view_name": "ProgressView",
            "bar_style": "success",
            "description": "",
            "description_tooltip": null,
            "layout": "IPY_MODEL_df4c78d12b584b35ad36b91c23244063",
            "max": 3,
            "min": 0,
            "orientation": "horizontal",
            "style": "IPY_MODEL_c31a096ab3e44bb9992ede0ba801be82",
            "value": 3
          }
        },
        "c29c56de992a41209c75f58ebd5b80d7": {
          "model_module": "@jupyter-widgets/controls",
          "model_name": "HTMLModel",
          "model_module_version": "1.5.0",
          "state": {
            "_dom_classes": [],
            "_model_module": "@jupyter-widgets/controls",
            "_model_module_version": "1.5.0",
            "_model_name": "HTMLModel",
            "_view_count": null,
            "_view_module": "@jupyter-widgets/controls",
            "_view_module_version": "1.5.0",
            "_view_name": "HTMLView",
            "description": "",
            "description_tooltip": null,
            "layout": "IPY_MODEL_54495327edfa40919627c88a0ccd1c45",
            "placeholder": "​",
            "style": "IPY_MODEL_415414413431477bbdc104285146b018",
            "value": " 3/3 [00:00&lt;00:00, 53.04it/s]"
          }
        },
        "4701a76df98449fda3a823bd25ec4822": {
          "model_module": "@jupyter-widgets/base",
          "model_name": "LayoutModel",
          "model_module_version": "1.2.0",
          "state": {
            "_model_module": "@jupyter-widgets/base",
            "_model_module_version": "1.2.0",
            "_model_name": "LayoutModel",
            "_view_count": null,
            "_view_module": "@jupyter-widgets/base",
            "_view_module_version": "1.2.0",
            "_view_name": "LayoutView",
            "align_content": null,
            "align_items": null,
            "align_self": null,
            "border": null,
            "bottom": null,
            "display": null,
            "flex": null,
            "flex_flow": null,
            "grid_area": null,
            "grid_auto_columns": null,
            "grid_auto_flow": null,
            "grid_auto_rows": null,
            "grid_column": null,
            "grid_gap": null,
            "grid_row": null,
            "grid_template_areas": null,
            "grid_template_columns": null,
            "grid_template_rows": null,
            "height": null,
            "justify_content": null,
            "justify_items": null,
            "left": null,
            "margin": null,
            "max_height": null,
            "max_width": null,
            "min_height": null,
            "min_width": null,
            "object_fit": null,
            "object_position": null,
            "order": null,
            "overflow": null,
            "overflow_x": null,
            "overflow_y": null,
            "padding": null,
            "right": null,
            "top": null,
            "visibility": null,
            "width": null
          }
        },
        "c5fd4de8c8204c7b91881c3c943170e6": {
          "model_module": "@jupyter-widgets/base",
          "model_name": "LayoutModel",
          "model_module_version": "1.2.0",
          "state": {
            "_model_module": "@jupyter-widgets/base",
            "_model_module_version": "1.2.0",
            "_model_name": "LayoutModel",
            "_view_count": null,
            "_view_module": "@jupyter-widgets/base",
            "_view_module_version": "1.2.0",
            "_view_name": "LayoutView",
            "align_content": null,
            "align_items": null,
            "align_self": null,
            "border": null,
            "bottom": null,
            "display": null,
            "flex": null,
            "flex_flow": null,
            "grid_area": null,
            "grid_auto_columns": null,
            "grid_auto_flow": null,
            "grid_auto_rows": null,
            "grid_column": null,
            "grid_gap": null,
            "grid_row": null,
            "grid_template_areas": null,
            "grid_template_columns": null,
            "grid_template_rows": null,
            "height": null,
            "justify_content": null,
            "justify_items": null,
            "left": null,
            "margin": null,
            "max_height": null,
            "max_width": null,
            "min_height": null,
            "min_width": null,
            "object_fit": null,
            "object_position": null,
            "order": null,
            "overflow": null,
            "overflow_x": null,
            "overflow_y": null,
            "padding": null,
            "right": null,
            "top": null,
            "visibility": null,
            "width": null
          }
        },
        "06d659d3f07d4fbc86ea1f333a0fb04c": {
          "model_module": "@jupyter-widgets/controls",
          "model_name": "DescriptionStyleModel",
          "model_module_version": "1.5.0",
          "state": {
            "_model_module": "@jupyter-widgets/controls",
            "_model_module_version": "1.5.0",
            "_model_name": "DescriptionStyleModel",
            "_view_count": null,
            "_view_module": "@jupyter-widgets/base",
            "_view_module_version": "1.2.0",
            "_view_name": "StyleView",
            "description_width": ""
          }
        },
        "df4c78d12b584b35ad36b91c23244063": {
          "model_module": "@jupyter-widgets/base",
          "model_name": "LayoutModel",
          "model_module_version": "1.2.0",
          "state": {
            "_model_module": "@jupyter-widgets/base",
            "_model_module_version": "1.2.0",
            "_model_name": "LayoutModel",
            "_view_count": null,
            "_view_module": "@jupyter-widgets/base",
            "_view_module_version": "1.2.0",
            "_view_name": "LayoutView",
            "align_content": null,
            "align_items": null,
            "align_self": null,
            "border": null,
            "bottom": null,
            "display": null,
            "flex": null,
            "flex_flow": null,
            "grid_area": null,
            "grid_auto_columns": null,
            "grid_auto_flow": null,
            "grid_auto_rows": null,
            "grid_column": null,
            "grid_gap": null,
            "grid_row": null,
            "grid_template_areas": null,
            "grid_template_columns": null,
            "grid_template_rows": null,
            "height": null,
            "justify_content": null,
            "justify_items": null,
            "left": null,
            "margin": null,
            "max_height": null,
            "max_width": null,
            "min_height": null,
            "min_width": null,
            "object_fit": null,
            "object_position": null,
            "order": null,
            "overflow": null,
            "overflow_x": null,
            "overflow_y": null,
            "padding": null,
            "right": null,
            "top": null,
            "visibility": null,
            "width": null
          }
        },
        "c31a096ab3e44bb9992ede0ba801be82": {
          "model_module": "@jupyter-widgets/controls",
          "model_name": "ProgressStyleModel",
          "model_module_version": "1.5.0",
          "state": {
            "_model_module": "@jupyter-widgets/controls",
            "_model_module_version": "1.5.0",
            "_model_name": "ProgressStyleModel",
            "_view_count": null,
            "_view_module": "@jupyter-widgets/base",
            "_view_module_version": "1.2.0",
            "_view_name": "StyleView",
            "bar_color": null,
            "description_width": ""
          }
        },
        "54495327edfa40919627c88a0ccd1c45": {
          "model_module": "@jupyter-widgets/base",
          "model_name": "LayoutModel",
          "model_module_version": "1.2.0",
          "state": {
            "_model_module": "@jupyter-widgets/base",
            "_model_module_version": "1.2.0",
            "_model_name": "LayoutModel",
            "_view_count": null,
            "_view_module": "@jupyter-widgets/base",
            "_view_module_version": "1.2.0",
            "_view_name": "LayoutView",
            "align_content": null,
            "align_items": null,
            "align_self": null,
            "border": null,
            "bottom": null,
            "display": null,
            "flex": null,
            "flex_flow": null,
            "grid_area": null,
            "grid_auto_columns": null,
            "grid_auto_flow": null,
            "grid_auto_rows": null,
            "grid_column": null,
            "grid_gap": null,
            "grid_row": null,
            "grid_template_areas": null,
            "grid_template_columns": null,
            "grid_template_rows": null,
            "height": null,
            "justify_content": null,
            "justify_items": null,
            "left": null,
            "margin": null,
            "max_height": null,
            "max_width": null,
            "min_height": null,
            "min_width": null,
            "object_fit": null,
            "object_position": null,
            "order": null,
            "overflow": null,
            "overflow_x": null,
            "overflow_y": null,
            "padding": null,
            "right": null,
            "top": null,
            "visibility": null,
            "width": null
          }
        },
        "415414413431477bbdc104285146b018": {
          "model_module": "@jupyter-widgets/controls",
          "model_name": "DescriptionStyleModel",
          "model_module_version": "1.5.0",
          "state": {
            "_model_module": "@jupyter-widgets/controls",
            "_model_module_version": "1.5.0",
            "_model_name": "DescriptionStyleModel",
            "_view_count": null,
            "_view_module": "@jupyter-widgets/base",
            "_view_module_version": "1.2.0",
            "_view_name": "StyleView",
            "description_width": ""
          }
        }
      }
    }
  },
  "cells": [
    {
      "cell_type": "markdown",
      "source": [
        "Importamos librerias"
      ],
      "metadata": {
        "id": "IopD6tinLJQL"
      }
    },
    {
      "cell_type": "code",
      "execution_count": null,
      "metadata": {
        "colab": {
          "base_uri": "https://localhost:8080/"
        },
        "id": "a6UwmfV-sGxL",
        "outputId": "e11ccd41-21b9-443d-b70f-853ff316fb3a"
      },
      "outputs": [
        {
          "output_type": "stream",
          "name": "stdout",
          "text": [
            "Collecting pgmpy\n",
            "  Downloading pgmpy-0.1.18-py3-none-any.whl (1.9 MB)\n",
            "\u001b[K     |████████████████████████████████| 1.9 MB 4.0 MB/s \n",
            "\u001b[?25hRequirement already satisfied: torch in /usr/local/lib/python3.7/dist-packages (from pgmpy) (1.11.0+cu113)\n",
            "Requirement already satisfied: joblib in /usr/local/lib/python3.7/dist-packages (from pgmpy) (1.1.0)\n",
            "Requirement already satisfied: numpy in /usr/local/lib/python3.7/dist-packages (from pgmpy) (1.21.6)\n",
            "Requirement already satisfied: networkx in /usr/local/lib/python3.7/dist-packages (from pgmpy) (2.6.3)\n",
            "Requirement already satisfied: pyparsing in /usr/local/lib/python3.7/dist-packages (from pgmpy) (3.0.8)\n",
            "Requirement already satisfied: tqdm in /usr/local/lib/python3.7/dist-packages (from pgmpy) (4.64.0)\n",
            "Requirement already satisfied: scikit-learn in /usr/local/lib/python3.7/dist-packages (from pgmpy) (1.0.2)\n",
            "Requirement already satisfied: pandas in /usr/local/lib/python3.7/dist-packages (from pgmpy) (1.3.5)\n",
            "Requirement already satisfied: statsmodels in /usr/local/lib/python3.7/dist-packages (from pgmpy) (0.10.2)\n",
            "Requirement already satisfied: scipy in /usr/local/lib/python3.7/dist-packages (from pgmpy) (1.4.1)\n",
            "Requirement already satisfied: python-dateutil>=2.7.3 in /usr/local/lib/python3.7/dist-packages (from pandas->pgmpy) (2.8.2)\n",
            "Requirement already satisfied: pytz>=2017.3 in /usr/local/lib/python3.7/dist-packages (from pandas->pgmpy) (2022.1)\n",
            "Requirement already satisfied: six>=1.5 in /usr/local/lib/python3.7/dist-packages (from python-dateutil>=2.7.3->pandas->pgmpy) (1.15.0)\n",
            "Requirement already satisfied: threadpoolctl>=2.0.0 in /usr/local/lib/python3.7/dist-packages (from scikit-learn->pgmpy) (3.1.0)\n",
            "Requirement already satisfied: patsy>=0.4.0 in /usr/local/lib/python3.7/dist-packages (from statsmodels->pgmpy) (0.5.2)\n",
            "Requirement already satisfied: typing-extensions in /usr/local/lib/python3.7/dist-packages (from torch->pgmpy) (4.2.0)\n",
            "Installing collected packages: pgmpy\n",
            "Successfully installed pgmpy-0.1.18\n"
          ]
        },
        {
          "output_type": "stream",
          "name": "stderr",
          "text": [
            "/usr/local/lib/python3.7/dist-packages/statsmodels/tools/_testing.py:19: FutureWarning: pandas.util.testing is deprecated. Use the functions in the public API at pandas.testing instead.\n",
            "  import pandas.util.testing as tm\n"
          ]
        }
      ],
      "source": [
        "try:\n",
        "  import google.colab\n",
        "  !pip install pgmpy\n",
        "except:\n",
        "  pass\n",
        "\n",
        "from pgmpy.models import BayesianNetwork\n",
        "from pgmpy.factors.discrete import TabularCPD\n",
        "from pgmpy.inference import VariableElimination"
      ]
    },
    {
      "cell_type": "markdown",
      "source": [
        "Agregamos los nodos a la red"
      ],
      "metadata": {
        "id": "mfF-Q-VVLf60"
      }
    },
    {
      "cell_type": "code",
      "source": [
        "model = BayesianNetwork([('Ebola', 'Fiebre'), ('Ebola', 'Sangrado'),('Fiebre', 'Visita'), #BayesianModel is deprecated\n",
        "                          ('Sangrado','Visita'), ('Sangrado','Complicacion'),('Visita','Doctor')])\n",
        "print(\"Nodes: \", model.nodes())\n",
        "print(\"Edges: \", model.edges())"
      ],
      "metadata": {
        "colab": {
          "base_uri": "https://localhost:8080/"
        },
        "id": "nyseSLS3sLaC",
        "outputId": "0f49a966-8882-4964-b180-fa48aa80376f"
      },
      "execution_count": null,
      "outputs": [
        {
          "output_type": "stream",
          "name": "stdout",
          "text": [
            "Nodes:  ['Ebola', 'Fiebre', 'Sangrado', 'Visita', 'Complicacion', 'Doctor']\n",
            "Edges:  [('Ebola', 'Fiebre'), ('Ebola', 'Sangrado'), ('Fiebre', 'Visita'), ('Sangrado', 'Visita'), ('Sangrado', 'Complicacion'), ('Visita', 'Doctor')]\n"
          ]
        }
      ]
    },
    {
      "cell_type": "markdown",
      "source": [
        "Agregamos las probabilidades, para esto dibuje las tablas y la red bayesiana a mano para poder visualizarlo de una manera mas facil, la imagen la anexo en classroom"
      ],
      "metadata": {
        "id": "MJB4jXzrZ1Hl"
      }
    },
    {
      "cell_type": "code",
      "source": [
        "dpc_ebola = TabularCPD(variable='Ebola', variable_card=2,\n",
        "                     values=[[0.01], [0.99]])\n",
        "\n",
        "dpc_fiebre = TabularCPD(variable='Fiebre', variable_card=2,\n",
        "                     values=[[0.6, 0.1],\n",
        "                             [0.4, 0.9]],\n",
        "                            evidence = ['Ebola'],\n",
        "                            evidence_card=[2])\n",
        "                     \n",
        "dpc_sangrado = TabularCPD(variable='Sangrado', variable_card=2,\n",
        "                     values=[[0.8, 0.05],\n",
        "                             [0.2, 0.95]],\n",
        "                          evidence = ['Ebola'],\n",
        "                          evidence_card=[2])\n",
        "\n",
        "\n",
        "dpc_visita = TabularCPD(variable='Visita', variable_card=2,\n",
        "                     values=[[0.8, 0.5, 0.7, 0],\n",
        "                             [0.2, 0.5, 0.3, 1]],\n",
        "                            evidence=['Fiebre', 'Sangrado'],\n",
        "                            evidence_card=[2, 2])\n",
        "\n",
        "dpc_complicacion = TabularCPD(variable='Complicacion', variable_card=2,\n",
        "                     values=[[0.75, 0.1],\n",
        "                             [0.25, 0.9]],\n",
        "                              evidence = ['Sangrado'],\n",
        "                              evidence_card=[2])\n",
        "\n",
        "dpc_doctor = TabularCPD(variable='Doctor', variable_card=2,\n",
        "                     values=[[0.6, 0],\n",
        "                             [0.4, 1]],\n",
        "                            evidence = ['Visita'],\n",
        "                            evidence_card=[2])\n"
      ],
      "metadata": {
        "id": "dpMoqrN1CDV2"
      },
      "execution_count": null,
      "outputs": []
    },
    {
      "cell_type": "code",
      "source": [
        "model.add_cpds(dpc_ebola, dpc_fiebre, dpc_sangrado, dpc_visita, dpc_doctor,dpc_complicacion)\n",
        "\n",
        "# verificación del modelo\n",
        "model.check_model()"
      ],
      "metadata": {
        "colab": {
          "base_uri": "https://localhost:8080/"
        },
        "id": "ATEhFpoaLIIM",
        "outputId": "fbc90ae7-05cd-46f6-b2f6-1e3af8c08ebc"
      },
      "execution_count": null,
      "outputs": [
        {
          "output_type": "execute_result",
          "data": {
            "text/plain": [
              "True"
            ]
          },
          "metadata": {},
          "execution_count": 5
        }
      ]
    },
    {
      "cell_type": "code",
      "source": [
        "model.get_independencies() #podemos checar las independencias"
      ],
      "metadata": {
        "colab": {
          "base_uri": "https://localhost:8080/"
        },
        "id": "ppWNJqD5cHCt",
        "outputId": "043960fd-7cff-430f-bd85-bd47e0f43107"
      },
      "execution_count": null,
      "outputs": [
        {
          "output_type": "execute_result",
          "data": {
            "text/plain": [
              "(Sangrado ⟂ Fiebre | Ebola)\n",
              "(Sangrado ⟂ Doctor | Visita)\n",
              "(Sangrado ⟂ Fiebre | Ebola, Complicacion)\n",
              "(Sangrado ⟂ Doctor | Ebola, Visita)\n",
              "(Sangrado ⟂ Doctor | Visita, Complicacion)\n",
              "(Sangrado ⟂ Doctor | Visita, Fiebre)\n",
              "(Sangrado ⟂ Doctor | Ebola, Visita, Complicacion)\n",
              "(Sangrado ⟂ Doctor | Ebola, Visita, Fiebre)\n",
              "(Sangrado ⟂ Doctor | Visita, Complicacion, Fiebre)\n",
              "(Sangrado ⟂ Doctor | Ebola, Visita, Complicacion, Fiebre)\n",
              "(Ebola ⟂ Complicacion | Sangrado)\n",
              "(Ebola ⟂ Doctor | Visita)\n",
              "(Ebola ⟂ Complicacion | Doctor, Sangrado)\n",
              "(Ebola ⟂ Doctor, Complicacion | Sangrado, Visita)\n",
              "(Ebola ⟂ Doctor, Visita, Complicacion | Sangrado, Fiebre)\n",
              "(Ebola ⟂ Doctor | Visita, Complicacion)\n",
              "(Ebola ⟂ Doctor | Visita, Fiebre)\n",
              "(Ebola ⟂ Doctor | Sangrado, Visita, Complicacion)\n",
              "(Ebola ⟂ Doctor, Visita | Sangrado, Complicacion, Fiebre)\n",
              "(Ebola ⟂ Complicacion | Doctor, Sangrado, Visita)\n",
              "(Ebola ⟂ Visita, Complicacion | Doctor, Sangrado, Fiebre)\n",
              "(Ebola ⟂ Doctor, Complicacion | Sangrado, Visita, Fiebre)\n",
              "(Ebola ⟂ Doctor | Visita, Complicacion, Fiebre)\n",
              "(Ebola ⟂ Visita | Doctor, Sangrado, Complicacion, Fiebre)\n",
              "(Ebola ⟂ Doctor | Sangrado, Visita, Complicacion, Fiebre)\n",
              "(Ebola ⟂ Complicacion | Doctor, Sangrado, Visita, Fiebre)\n",
              "(Complicacion ⟂ Doctor, Ebola, Visita, Fiebre | Sangrado)\n",
              "(Complicacion ⟂ Fiebre | Ebola)\n",
              "(Complicacion ⟂ Doctor | Visita)\n",
              "(Complicacion ⟂ Doctor, Visita, Fiebre | Sangrado, Ebola)\n",
              "(Complicacion ⟂ Ebola, Visita, Fiebre | Doctor, Sangrado)\n",
              "(Complicacion ⟂ Doctor, Ebola, Fiebre | Sangrado, Visita)\n",
              "(Complicacion ⟂ Doctor, Ebola, Visita | Sangrado, Fiebre)\n",
              "(Complicacion ⟂ Doctor | Ebola, Visita)\n",
              "(Complicacion ⟂ Doctor | Visita, Fiebre)\n",
              "(Complicacion ⟂ Visita, Fiebre | Doctor, Sangrado, Ebola)\n",
              "(Complicacion ⟂ Doctor, Fiebre | Sangrado, Ebola, Visita)\n",
              "(Complicacion ⟂ Doctor, Visita | Sangrado, Ebola, Fiebre)\n",
              "(Complicacion ⟂ Ebola, Fiebre | Doctor, Sangrado, Visita)\n",
              "(Complicacion ⟂ Ebola, Visita | Doctor, Sangrado, Fiebre)\n",
              "(Complicacion ⟂ Doctor, Ebola | Sangrado, Visita, Fiebre)\n",
              "(Complicacion ⟂ Doctor | Ebola, Visita, Fiebre)\n",
              "(Complicacion ⟂ Fiebre | Doctor, Sangrado, Ebola, Visita)\n",
              "(Complicacion ⟂ Visita | Doctor, Sangrado, Ebola, Fiebre)\n",
              "(Complicacion ⟂ Doctor | Sangrado, Ebola, Visita, Fiebre)\n",
              "(Complicacion ⟂ Ebola | Doctor, Sangrado, Visita, Fiebre)\n",
              "(Doctor ⟂ Complicacion | Sangrado)\n",
              "(Doctor ⟂ Sangrado, Ebola, Complicacion, Fiebre | Visita)\n",
              "(Doctor ⟂ Complicacion | Sangrado, Ebola)\n",
              "(Doctor ⟂ Ebola, Complicacion, Fiebre | Sangrado, Visita)\n",
              "(Doctor ⟂ Ebola, Complicacion | Sangrado, Fiebre)\n",
              "(Doctor ⟂ Sangrado, Complicacion, Fiebre | Ebola, Visita)\n",
              "(Doctor ⟂ Sangrado, Ebola, Fiebre | Visita, Complicacion)\n",
              "(Doctor ⟂ Sangrado, Ebola, Complicacion | Visita, Fiebre)\n",
              "(Doctor ⟂ Complicacion, Fiebre | Sangrado, Ebola, Visita)\n",
              "(Doctor ⟂ Complicacion | Sangrado, Ebola, Fiebre)\n",
              "(Doctor ⟂ Ebola, Fiebre | Sangrado, Visita, Complicacion)\n",
              "(Doctor ⟂ Ebola | Sangrado, Complicacion, Fiebre)\n",
              "(Doctor ⟂ Ebola, Complicacion | Sangrado, Visita, Fiebre)\n",
              "(Doctor ⟂ Sangrado, Fiebre | Ebola, Visita, Complicacion)\n",
              "(Doctor ⟂ Sangrado, Complicacion | Ebola, Visita, Fiebre)\n",
              "(Doctor ⟂ Sangrado, Ebola | Visita, Complicacion, Fiebre)\n",
              "(Doctor ⟂ Fiebre | Sangrado, Ebola, Visita, Complicacion)\n",
              "(Doctor ⟂ Complicacion | Sangrado, Ebola, Visita, Fiebre)\n",
              "(Doctor ⟂ Ebola | Sangrado, Visita, Complicacion, Fiebre)\n",
              "(Doctor ⟂ Sangrado | Ebola, Visita, Complicacion, Fiebre)\n",
              "(Visita ⟂ Complicacion | Sangrado)\n",
              "(Visita ⟂ Complicacion | Sangrado, Ebola)\n",
              "(Visita ⟂ Complicacion | Doctor, Sangrado)\n",
              "(Visita ⟂ Ebola, Complicacion | Sangrado, Fiebre)\n",
              "(Visita ⟂ Complicacion | Doctor, Sangrado, Ebola)\n",
              "(Visita ⟂ Complicacion | Sangrado, Ebola, Fiebre)\n",
              "(Visita ⟂ Ebola | Sangrado, Complicacion, Fiebre)\n",
              "(Visita ⟂ Ebola, Complicacion | Doctor, Sangrado, Fiebre)\n",
              "(Visita ⟂ Complicacion | Doctor, Sangrado, Ebola, Fiebre)\n",
              "(Visita ⟂ Ebola | Doctor, Sangrado, Complicacion, Fiebre)\n",
              "(Fiebre ⟂ Complicacion | Sangrado)\n",
              "(Fiebre ⟂ Sangrado, Complicacion | Ebola)\n",
              "(Fiebre ⟂ Doctor | Visita)\n",
              "(Fiebre ⟂ Complicacion | Sangrado, Ebola)\n",
              "(Fiebre ⟂ Complicacion | Doctor, Sangrado)\n",
              "(Fiebre ⟂ Doctor, Complicacion | Sangrado, Visita)\n",
              "(Fiebre ⟂ Sangrado | Ebola, Complicacion)\n",
              "(Fiebre ⟂ Doctor | Ebola, Visita)\n",
              "(Fiebre ⟂ Doctor | Visita, Complicacion)\n",
              "(Fiebre ⟂ Complicacion | Doctor, Sangrado, Ebola)\n",
              "(Fiebre ⟂ Doctor, Complicacion | Sangrado, Ebola, Visita)\n",
              "(Fiebre ⟂ Doctor | Sangrado, Visita, Complicacion)\n",
              "(Fiebre ⟂ Complicacion | Doctor, Sangrado, Visita)\n",
              "(Fiebre ⟂ Doctor | Ebola, Visita, Complicacion)\n",
              "(Fiebre ⟂ Doctor | Sangrado, Ebola, Visita, Complicacion)\n",
              "(Fiebre ⟂ Complicacion | Doctor, Sangrado, Ebola, Visita)"
            ]
          },
          "metadata": {},
          "execution_count": 6
        }
      ]
    },
    {
      "cell_type": "markdown",
      "source": [
        "En la funcion query, ponemos nuestras probabilidades, en este caso $$(P(E = Verdadero | D = Verdadero))$$\n",
        "\n",
        "Supongo que $1=True$ entonces Doctor : 1"
      ],
      "metadata": {
        "id": "AjxFS73aPtG4"
      }
    },
    {
      "cell_type": "code",
      "source": [
        "# instanciando objecto de eliminación de variables\n",
        "var_elimn = VariableElimination(model)\n",
        "\n",
        "query = var_elimn.query(variables=['Ebola'], evidence={'Doctor': 1})\n",
        "print('(P(E = Falso | D = Verdadero))\\n',query)\n",
        "\n"
      ],
      "metadata": {
        "colab": {
          "base_uri": "https://localhost:8080/",
          "height": 220,
          "referenced_widgets": [
            "b50bbdba4ab44690989cf7800bfa247f",
            "0f0ddb68870143e69339efc815ecd163",
            "49ef9ef2861f4efea29edf1f2fd2d416",
            "f0a150ee91e048c2a5479254c2276df5",
            "5f8e7d71261346539d00b50568668444",
            "f22d708bd20e4ceb963e79a9735eaf9d",
            "553bf52611c843b8a45789bb98668aad",
            "9a5949b72db64acea81cfdc2bb6923c8",
            "c321efd3d33f4e1f9de030a062d661f5",
            "eece13ec0f0343379a80b5ac82236245",
            "84761e4fdea1430497e42105d4cd172e",
            "8b0a300789284215841a7a8296ebd474",
            "02fbcd5dea654cfdafa4beac8c87668f",
            "12536cd1d2dd47c7bc498ed7d1d15749",
            "c29c56de992a41209c75f58ebd5b80d7",
            "4701a76df98449fda3a823bd25ec4822",
            "c5fd4de8c8204c7b91881c3c943170e6",
            "06d659d3f07d4fbc86ea1f333a0fb04c",
            "df4c78d12b584b35ad36b91c23244063",
            "c31a096ab3e44bb9992ede0ba801be82",
            "54495327edfa40919627c88a0ccd1c45",
            "415414413431477bbdc104285146b018"
          ]
        },
        "id": "waA28FAcMt6v",
        "outputId": "24c17483-1ba8-4a29-ccc5-00aaca9cb40b"
      },
      "execution_count": null,
      "outputs": [
        {
          "output_type": "display_data",
          "data": {
            "text/plain": [
              "  0%|          | 0/3 [00:00<?, ?it/s]"
            ],
            "application/vnd.jupyter.widget-view+json": {
              "version_major": 2,
              "version_minor": 0,
              "model_id": "b50bbdba4ab44690989cf7800bfa247f"
            }
          },
          "metadata": {}
        },
        {
          "output_type": "display_data",
          "data": {
            "text/plain": [
              "  0%|          | 0/3 [00:00<?, ?it/s]"
            ],
            "application/vnd.jupyter.widget-view+json": {
              "version_major": 2,
              "version_minor": 0,
              "model_id": "8b0a300789284215841a7a8296ebd474"
            }
          },
          "metadata": {}
        },
        {
          "output_type": "stream",
          "name": "stdout",
          "text": [
            "(P(E = Falso | D = Verdadero))\n",
            " +----------+--------------+\n",
            "| Ebola    |   phi(Ebola) |\n",
            "+==========+==============+\n",
            "| Ebola(0) |       0.0063 |\n",
            "+----------+--------------+\n",
            "| Ebola(1) |       0.9937 |\n",
            "+----------+--------------+\n"
          ]
        }
      ]
    }
  ]
}